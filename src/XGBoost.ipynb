{
 "cells": [
  {
   "cell_type": "markdown",
   "id": "e88215dd-f9e0-4b55-89bb-0dd880d27ca1",
   "metadata": {},
   "source": [
    "# Import Library"
   ]
  },
  {
   "cell_type": "code",
   "execution_count": 1,
   "id": "6cb0347b-48db-4438-a934-174fb1687b38",
   "metadata": {},
   "outputs": [],
   "source": [
    "import matplotlib.pyplot as plt\n",
    "import numpy as np\n",
    "\n",
    "from sklearn.tree import DecisionTreeRegressor\n",
    "from xgboost import XGBRegressor\n",
    "from sklearn import metrics"
   ]
  },
  {
   "cell_type": "code",
   "execution_count": 2,
   "id": "178d0670",
   "metadata": {},
   "outputs": [],
   "source": [
    "from DataPreprocessing import *"
   ]
  },
  {
   "cell_type": "markdown",
   "id": "4720a97c-ee22-4de9-bed6-abf1247a14ab",
   "metadata": {},
   "source": [
    "# XGBoost without Hyperparameters Tuning"
   ]
  },
  {
   "cell_type": "code",
   "execution_count": 3,
   "id": "0ab99451-6946-4391-86b5-559d1724cbe6",
   "metadata": {},
   "outputs": [
    {
     "name": "stdout",
     "output_type": "stream",
     "text": [
      "Model Accuracy on train set using XGBoost: 0.988881086836651\n",
      "Model Accuracy on test set using XGBoost: 0.867756094866293\n",
      "The root mean squared error (RMSE) on test set: 190655.060986640746705\n"
     ]
    }
   ],
   "source": [
    "xg_boost = XGBRegressor()\n",
    "xg_boost.fit(X_train_std, y_train)\n",
    "\n",
    "print(\"Model Accuracy on train set using XGBoost: %.15f\" % xg_boost.score(X_train_std, y_train))\n",
    "print(\"Model Accuracy on test set using XGBoost: %.15f\" % xg_boost.score(X_test_std, y_test))\n",
    "\n",
    "rmse = metrics.mean_squared_error(y_test, xg_boost.predict(X_test_std), squared=False)\n",
    "print(\"The root mean squared error (RMSE) on test set: {:.15f}\".format(rmse))"
   ]
  },
  {
   "cell_type": "markdown",
   "id": "6bd96580-c782-4a58-8efe-35a39e929905",
   "metadata": {},
   "source": [
    "# Hyperparameters Tuning"
   ]
  },
  {
   "cell_type": "code",
   "execution_count": 4,
   "id": "f34334e2-0381-4398-8407-402fe976d42d",
   "metadata": {},
   "outputs": [
    {
     "name": "stdout",
     "output_type": "stream",
     "text": [
      "Fitting 5 folds for each of 54 candidates, totalling 270 fits\n",
      "Best parameters: {'colsample_bytree': 0.7, 'learning_rate': 0.1, 'max_depth': 3, 'n_estimators': 500}\n",
      "Lowest RMSE:  155431.37811705694\n"
     ]
    }
   ],
   "source": [
    "from sklearn.model_selection import GridSearchCV\n",
    "params = { 'max_depth': [3,6,10],\n",
    "           'learning_rate': [0.01, 0.05, 0.1],\n",
    "           'n_estimators': [100, 500, 1000],\n",
    "           'colsample_bytree': [0.3, 0.7]}\n",
    "xgbr = XGBRegressor()\n",
    "clf = GridSearchCV(estimator=xgbr, \n",
    "                   param_grid=params,\n",
    "                   scoring='neg_mean_squared_error', \n",
    "                   verbose=1)\n",
    "clf.fit(X_train_std, y_train)\n",
    "print(\"Best parameters:\", clf.best_params_)\n",
    "print(\"Lowest RMSE: \", (-clf.best_score_)**(1/2.0))"
   ]
  },
  {
   "cell_type": "code",
   "execution_count": 5,
   "id": "7743daea-6f79-48ff-84e0-f77db3f142c6",
   "metadata": {},
   "outputs": [
    {
     "name": "stdout",
     "output_type": "stream",
     "text": [
      "RMSE after tune hyperparameters using Scikit-learn library: 159948.575519334146520\n",
      "Model Accuracy after tune hyperparameters on train set: 0.970755742624392\n",
      "Model Accuracy after tune hyperparameters on test set: 0.906923564652030\n"
     ]
    }
   ],
   "source": [
    "sklearn_xgb = XGBRegressor(\n",
    "            colsample_bytree=0.7,\n",
    "            learning_rate=0.1, max_depth=3,\n",
    "            n_estimators=500)\n",
    "sklearn_xgb.fit(X_train_std, y_train)\n",
    "sklearn_rmse = metrics.mean_squared_error(y_test, sklearn_xgb.predict(X_test_std), squared=False)\n",
    "print(f\"RMSE after tune hyperparameters using Scikit-learn library: {sklearn_rmse:.15f}\")\n",
    "print(\"Model Accuracy after tune hyperparameters on train set: %.15f\" % sklearn_xgb.score(X_train_std, y_train))\n",
    "print(\"Model Accuracy after tune hyperparameters on test set: %.15f\" % sklearn_xgb.score(X_test_std, y_test))"
   ]
  },
  {
   "cell_type": "markdown",
   "id": "695a8fc1",
   "metadata": {},
   "source": [
    "# Prediction"
   ]
  },
  {
   "cell_type": "code",
   "execution_count": 6,
   "id": "6b60a52c",
   "metadata": {
    "scrolled": true
   },
   "outputs": [
    {
     "data": {
      "text/plain": [
       "array([[ 1.38954455, -1.08145768,  1.11558082,  0.30072914, -3.3142684 ,\n",
       "        -0.74641118,  0.626382  , -0.47460479, -0.18362431, -1.34744894,\n",
       "        -0.44536017,  0.33188388],\n",
       "       [ 1.38954455, -0.67091488,  1.11558082,  0.30072914,  0.30172571,\n",
       "        -0.74641118,  0.4298544 , -0.47460479, -0.18362431, -1.34744894,\n",
       "        -0.44536017,  0.33188388],\n",
       "       [ 0.87204969, -0.30142637,  1.11558082,  0.30072914,  0.30172571,\n",
       "        -0.74641118,  1.29805861, -1.28731519, -1.27964718,  1.4188324 ,\n",
       "        -0.44536017,  0.33188388]])"
      ]
     },
     "execution_count": 6,
     "metadata": {},
     "output_type": "execute_result"
    }
   ],
   "source": [
    "X_test_predict = X_test_std[0:3]\n",
    "X_test_predict"
   ]
  },
  {
   "cell_type": "code",
   "execution_count": 7,
   "id": "d579a6de",
   "metadata": {},
   "outputs": [
    {
     "data": {
      "text/plain": [
       "1363     700000\n",
       "3171     550000\n",
       "2201     275000\n",
       "6483     235000\n",
       "6104     375000\n",
       "         ...   \n",
       "2384    3600000\n",
       "3214    1000000\n",
       "3542     700000\n",
       "6395     150000\n",
       "5739     254999\n",
       "Name: selling_price, Length: 1343, dtype: int64"
      ]
     },
     "execution_count": 7,
     "metadata": {},
     "output_type": "execute_result"
    }
   ],
   "source": [
    "y_test"
   ]
  },
  {
   "cell_type": "code",
   "execution_count": 8,
   "id": "f8fafa44",
   "metadata": {},
   "outputs": [
    {
     "data": {
      "text/plain": [
       "array([660927.  , 602159.8 , 302776.94], dtype=float32)"
      ]
     },
     "execution_count": 8,
     "metadata": {},
     "output_type": "execute_result"
    }
   ],
   "source": [
    "y_predict = sklearn_xgb.predict(X_test_predict)\n",
    "y_predict"
   ]
  },
  {
   "cell_type": "code",
   "execution_count": 9,
   "id": "d97b18cb",
   "metadata": {},
   "outputs": [
    {
     "data": {
      "text/html": [
       "<div>\n",
       "<style scoped>\n",
       "    .dataframe tbody tr th:only-of-type {\n",
       "        vertical-align: middle;\n",
       "    }\n",
       "\n",
       "    .dataframe tbody tr th {\n",
       "        vertical-align: top;\n",
       "    }\n",
       "\n",
       "    .dataframe thead th {\n",
       "        text-align: right;\n",
       "    }\n",
       "</style>\n",
       "<table border=\"1\" class=\"dataframe\">\n",
       "  <thead>\n",
       "    <tr style=\"text-align: right;\">\n",
       "      <th></th>\n",
       "      <th>y_test</th>\n",
       "      <th>y_predict</th>\n",
       "    </tr>\n",
       "  </thead>\n",
       "  <tbody>\n",
       "    <tr>\n",
       "      <th>0</th>\n",
       "      <td>700000</td>\n",
       "      <td>660927.0000</td>\n",
       "    </tr>\n",
       "    <tr>\n",
       "      <th>1</th>\n",
       "      <td>550000</td>\n",
       "      <td>602159.8125</td>\n",
       "    </tr>\n",
       "    <tr>\n",
       "      <th>2</th>\n",
       "      <td>275000</td>\n",
       "      <td>302776.9375</td>\n",
       "    </tr>\n",
       "  </tbody>\n",
       "</table>\n",
       "</div>"
      ],
      "text/plain": [
       "   y_test    y_predict\n",
       "0  700000  660927.0000\n",
       "1  550000  602159.8125\n",
       "2  275000  302776.9375"
      ]
     },
     "execution_count": 9,
     "metadata": {},
     "output_type": "execute_result"
    }
   ],
   "source": [
    "pd.DataFrame({\"y_test\": y_test.values[0:3], \"y_predict\": y_predict})"
   ]
  }
 ],
 "metadata": {
  "kernelspec": {
   "display_name": "Python 3 (ipykernel)",
   "language": "python",
   "name": "python3"
  },
  "language_info": {
   "codemirror_mode": {
    "name": "ipython",
    "version": 3
   },
   "file_extension": ".py",
   "mimetype": "text/x-python",
   "name": "python",
   "nbconvert_exporter": "python",
   "pygments_lexer": "ipython3",
   "version": "3.9.12"
  }
 },
 "nbformat": 4,
 "nbformat_minor": 5
}
