{
 "cells": [
  {
   "cell_type": "markdown",
   "id": "13342ea6-5941-4ba2-b83d-d4ebfded5795",
   "metadata": {},
   "source": [
    "# Import Library"
   ]
  },
  {
   "cell_type": "code",
   "execution_count": 1,
   "id": "1f83f786-f577-470c-9f71-f4c63b68b42c",
   "metadata": {},
   "outputs": [],
   "source": [
    "import matplotlib.pyplot as plt\n",
    "import numpy as np\n",
    "\n",
    "from sklearn.preprocessing import StandardScaler\n",
    "from sklearn.ensemble import GradientBoostingRegressor\n",
    "from sklearn.tree import DecisionTreeRegressor\n",
    "from sklearn import metrics"
   ]
  },
  {
   "cell_type": "code",
   "execution_count": 2,
   "id": "acbe79a7",
   "metadata": {},
   "outputs": [],
   "source": [
    "from DataPreprocessing import *"
   ]
  },
  {
   "cell_type": "markdown",
   "id": "b97fec72-042c-4e0b-a14f-4b148dcdac8e",
   "metadata": {},
   "source": [
    "# Algorithm"
   ]
  },
  {
   "cell_type": "code",
   "execution_count": 3,
   "id": "506ab2c8",
   "metadata": {},
   "outputs": [],
   "source": [
    "class CustomGradientBoostingRegressor:\n",
    "    \n",
    "    def __init__(self, learning_rate, n_estimators, max_depth, random_state):\n",
    "        self.learning_rate = learning_rate\n",
    "        self.n_estimators = n_estimators\n",
    "        self.max_depth = max_depth\n",
    "        self.random_state = random_state\n",
    "        self.trees = []\n",
    "        \n",
    "    def fit(self, X, y):\n",
    "        \n",
    "        self.F0 = y.mean()\n",
    "        Fm = self.F0\n",
    "        \n",
    "        for _ in range(self.n_estimators):\n",
    "            r = y - Fm\n",
    "            tree = DecisionTreeRegressor(max_depth=self.max_depth, random_state=0)\n",
    "            tree.fit(X, r)\n",
    "            gamma = tree.predict(X)\n",
    "            Fm += self.learning_rate * gamma\n",
    "            self.trees.append(tree)\n",
    "            \n",
    "    def predict(self, X):\n",
    "        \n",
    "        Fm = self.F0\n",
    "        \n",
    "        for i in range(self.n_estimators):\n",
    "            Fm += self.learning_rate * self.trees[i].predict(X)\n",
    "            \n",
    "        return Fm"
   ]
  },
  {
   "cell_type": "markdown",
   "id": "830f5894-83f1-4b79-a2e8-929e2d20a80d",
   "metadata": {},
   "source": [
    "# Output"
   ]
  },
  {
   "cell_type": "code",
   "execution_count": 4,
   "id": "26994595",
   "metadata": {},
   "outputs": [
    {
     "name": "stdout",
     "output_type": "stream",
     "text": [
      "RMSE using Scikit-learn Library:185448.695914584881393\n",
      "RMSE using Algorithm:185786.483946653897874\n",
      "Model Accuracy on the train set: 0.948762366499092\n",
      "Model Accuracy using Scikit-learn Library on the test set: 0.874880051683447\n",
      "Model Accuracy using Algorithm on the test set: 0.874423833729561\n"
     ]
    }
   ],
   "source": [
    "sklearn_gbm = GradientBoostingRegressor(\n",
    "    n_estimators=100, \n",
    "    learning_rate=0.1, \n",
    "    max_depth=3,\n",
    "    random_state=0\n",
    ")\n",
    "sklearn_gbm.fit(X_train_std, y_train)\n",
    "sklearn_gbm_rmse = metrics.mean_squared_error(y_test, sklearn_gbm.predict(X_test_std), squared=False)\n",
    "print(f\"RMSE using Scikit-learn Library:{sklearn_gbm_rmse:.15f}\")\n",
    "\n",
    "custom_gbm = CustomGradientBoostingRegressor(\n",
    "    n_estimators=100, \n",
    "    learning_rate=0.1, \n",
    "    max_depth=3,\n",
    "    random_state=0\n",
    ")\n",
    "custom_gbm.fit(X_train_std, y_train)\n",
    "              \n",
    "custom_gbm_rmse = metrics.mean_squared_error(y_test, custom_gbm.predict(X_test_std), squared=False)\n",
    "print(f\"RMSE using Algorithm:{custom_gbm_rmse:.15f}\")\n",
    "\n",
    "print(\"Model Accuracy on the train set: %.15f\" % sklearn_gbm.score(X_train_std, y_train))\n",
    "print(\"Model Accuracy using Scikit-learn Library on the test set: %.15f\" % sklearn_gbm.score(X_test_std, y_test))\n",
    "\n",
    "mean = y_test.values.mean()\n",
    "predict = custom_gbm.predict(X_test_std)\n",
    "n = y_test.shape[0]\n",
    "u = 0\n",
    "v = 0\n",
    "\n",
    "for i in range(n):\n",
    "    u += (y_test.values[i]-predict[i])**2\n",
    "    v += (y_test.values[i]-mean)**2\n",
    "custom_accuracy = (1-u/v)\n",
    "print('Model Accuracy using Algorithm on the test set: %.15f' %custom_accuracy)"
   ]
  },
  {
   "cell_type": "markdown",
   "id": "f0bc78a2-07a7-433f-87f4-25c43537485f",
   "metadata": {},
   "source": [
    "# Hyperparameters tuning"
   ]
  },
  {
   "cell_type": "code",
   "execution_count": 5,
   "id": "356b7327",
   "metadata": {},
   "outputs": [
    {
     "name": "stderr",
     "output_type": "stream",
     "text": [
      "E:\\Anaconda\\lib\\site-packages\\sklearn\\model_selection\\_search.py:969: UserWarning: One or more of the test scores are non-finite: [nan nan nan nan nan nan nan nan nan nan nan nan nan nan nan nan nan nan\n",
      " nan nan nan nan nan nan nan nan nan nan nan nan nan nan nan nan nan nan\n",
      " nan nan nan nan nan nan nan nan nan nan nan nan nan nan nan nan nan nan\n",
      " nan nan nan nan nan nan nan nan nan nan]\n",
      "  warnings.warn(\n"
     ]
    },
    {
     "name": "stdout",
     "output_type": "stream",
     "text": [
      " Results from Grid Search \n",
      "\n",
      "\n",
      " The best estimator across ALL searched params:\n",
      " GradientBoostingRegressor(learning_rate=0.01, max_depth=4)\n",
      "\n",
      " The best score across ALL searched params:\n",
      " nan\n",
      "\n",
      " The best parameters across ALL searched params:\n",
      " {'learning_rate': 0.01, 'max_depth': 4, 'n_estimators': 100}\n"
     ]
    }
   ],
   "source": [
    "from sklearn.model_selection import GridSearchCV\n",
    "\n",
    "#Using GridSearchCV\n",
    "GBR = GradientBoostingRegressor()\n",
    "parameters = {'learning_rate': [0.01,0.02,0.03,0.04],\n",
    "                  'n_estimators' : [100,500,1000, 1500],\n",
    "                  'max_depth'    : [4,6,8,10]\n",
    "                 }\n",
    "grid_GBR = GridSearchCV(estimator=GBR, param_grid = parameters, scoring = 'accuracy', cv = 2, n_jobs=-1)\n",
    "grid_GBR.fit(X_train_std, y_train)\n",
    "\n",
    "# Results from Grid Search\n",
    "print(\" Results from Grid Search \" )\n",
    "print()\n",
    "print(\"\\n The best estimator across ALL searched params:\\n\",\n",
    "          grid_GBR.best_estimator_)\n",
    "print(\"\\n The best score across ALL searched params:\\n\",\n",
    "          grid_GBR.best_score_)\n",
    "print(\"\\n The best parameters across ALL searched params:\\n\",\n",
    "          grid_GBR.best_params_)"
   ]
  },
  {
   "cell_type": "markdown",
   "id": "d81c7924-e0fa-4bb1-932f-2b73e5df0ad8",
   "metadata": {},
   "source": [
    "# Output after tune hyperparameters"
   ]
  },
  {
   "cell_type": "code",
   "execution_count": 6,
   "id": "132b239c",
   "metadata": {},
   "outputs": [
    {
     "name": "stdout",
     "output_type": "stream",
     "text": [
      "RMSE after tune hyperparameters using Scikit-learn library: 172838.092051162762800\n",
      "Model Accuracy after tune hyperparameters on train set: 0.974221366280669\n",
      "Model Accuracy after tune hyperparameters on test set: 0.891317926394951\n"
     ]
    }
   ],
   "source": [
    "sklearn = GradientBoostingRegressor(\n",
    "    n_estimators=500, \n",
    "    learning_rate=0.04, \n",
    "    max_depth=4,\n",
    "    random_state=0\n",
    ")\n",
    "sklearn.fit(X_train_std, y_train)\n",
    "sklearn_rmse = metrics.mean_squared_error(y_test, sklearn.predict(X_test_std), squared=False)\n",
    "print(f\"RMSE after tune hyperparameters using Scikit-learn library: {sklearn_rmse:.15f}\")\n",
    "print(\"Model Accuracy after tune hyperparameters on train set: %.15f\" % sklearn.score(X_train_std, y_train))\n",
    "print(\"Model Accuracy after tune hyperparameters on test set: %.15f\" % sklearn.score(X_test_std, y_test))"
   ]
  },
  {
   "cell_type": "markdown",
   "id": "f4527b80-10fe-4cc2-95a3-ae5a62457f44",
   "metadata": {},
   "source": [
    "# Importance Features"
   ]
  },
  {
   "cell_type": "code",
   "execution_count": 7,
   "id": "59d611a3",
   "metadata": {},
   "outputs": [],
   "source": [
    "# get importance\n",
    "importances = sklearn_gbm.feature_importances_"
   ]
  },
  {
   "cell_type": "code",
   "execution_count": 8,
   "id": "987ba588",
   "metadata": {},
   "outputs": [
    {
     "data": {
      "image/png": "[encoded data removed]",
      "text/plain": [
       "<Figure size 432x288 with 1 Axes>"
      ]
     },
     "metadata": {
      "needs_background": "light"
     },
     "output_type": "display_data"
    }
   ],
   "source": [
    "indices = np.argsort(importances)\n",
    "\n",
    "fig, ax = plt.subplots()\n",
    "ax.barh(range(len(importances)), importances[indices])\n",
    "ax.set_yticks(range(len(importances)))\n",
    "_ = ax.set_yticklabels(np.array(X_train.columns)[indices])"
   ]
  },
  {
   "cell_type": "markdown",
   "id": "e7a33ae0-c6a8-46ba-bf63-71c9909bb966",
   "metadata": {},
   "source": [
    "# Predicting some Instances"
   ]
  },
  {
   "cell_type": "code",
   "execution_count": 9,
   "id": "105f6026-2c80-4a99-9f6a-45305a8a7bf1",
   "metadata": {},
   "outputs": [
    {
     "data": {
      "text/plain": [
       "array([[ 1.38954455, -1.08145768,  1.11558082,  0.30072914, -3.3142684 ,\n",
       "        -0.74641118,  0.626382  , -0.47460479, -0.18362431, -1.34744894,\n",
       "        -0.44536017,  0.33188388],\n",
       "       [ 1.38954455, -0.67091488,  1.11558082,  0.30072914,  0.30172571,\n",
       "        -0.74641118,  0.4298544 , -0.47460479, -0.18362431, -1.34744894,\n",
       "        -0.44536017,  0.33188388],\n",
       "       [ 0.87204969, -0.30142637,  1.11558082,  0.30072914,  0.30172571,\n",
       "        -0.74641118,  1.29805861, -1.28731519, -1.27964718,  1.4188324 ,\n",
       "        -0.44536017,  0.33188388]])"
      ]
     },
     "execution_count": 9,
     "metadata": {},
     "output_type": "execute_result"
    }
   ],
   "source": [
    "X_test_predict = X_test_std[0:3]\n",
    "X_test_predict"
   ]
  },
  {
   "cell_type": "code",
   "execution_count": 10,
   "id": "d62c854f-f6a1-43c7-8c1a-275bf39411ba",
   "metadata": {},
   "outputs": [
    {
     "data": {
      "text/plain": [
       "1363     700000\n",
       "3171     550000\n",
       "2201     275000\n",
       "6483     235000\n",
       "6104     375000\n",
       "         ...   \n",
       "2384    3600000\n",
       "3214    1000000\n",
       "3542     700000\n",
       "6395     150000\n",
       "5739     254999\n",
       "Name: selling_price, Length: 1343, dtype: int64"
      ]
     },
     "execution_count": 10,
     "metadata": {},
     "output_type": "execute_result"
    }
   ],
   "source": [
    "y_test"
   ]
  },
  {
   "cell_type": "code",
   "execution_count": 11,
   "id": "7a137b39-92ba-4ac6-b8eb-54ea6ef90f17",
   "metadata": {},
   "outputs": [
    {
     "data": {
      "text/plain": [
       "array([652699.21110964, 592002.10578764, 302823.03889886])"
      ]
     },
     "execution_count": 11,
     "metadata": {},
     "output_type": "execute_result"
    }
   ],
   "source": [
    "y_predict = sklearn.predict(X_test_predict)\n",
    "y_predict"
   ]
  },
  {
   "cell_type": "code",
   "execution_count": 12,
   "id": "9ea5e1bd",
   "metadata": {},
   "outputs": [
    {
     "data": {
      "text/html": [
       "<div>\n",
       "<style scoped>\n",
       "    .dataframe tbody tr th:only-of-type {\n",
       "        vertical-align: middle;\n",
       "    }\n",
       "\n",
       "    .dataframe tbody tr th {\n",
       "        vertical-align: top;\n",
       "    }\n",
       "\n",
       "    .dataframe thead th {\n",
       "        text-align: right;\n",
       "    }\n",
       "</style>\n",
       "<table border=\"1\" class=\"dataframe\">\n",
       "  <thead>\n",
       "    <tr style=\"text-align: right;\">\n",
       "      <th></th>\n",
       "      <th>y_test</th>\n",
       "      <th>y_predict</th>\n",
       "    </tr>\n",
       "  </thead>\n",
       "  <tbody>\n",
       "    <tr>\n",
       "      <th>0</th>\n",
       "      <td>700000</td>\n",
       "      <td>652699.211110</td>\n",
       "    </tr>\n",
       "    <tr>\n",
       "      <th>1</th>\n",
       "      <td>550000</td>\n",
       "      <td>592002.105788</td>\n",
       "    </tr>\n",
       "    <tr>\n",
       "      <th>2</th>\n",
       "      <td>275000</td>\n",
       "      <td>302823.038899</td>\n",
       "    </tr>\n",
       "  </tbody>\n",
       "</table>\n",
       "</div>"
      ],
      "text/plain": [
       "   y_test      y_predict\n",
       "0  700000  652699.211110\n",
       "1  550000  592002.105788\n",
       "2  275000  302823.038899"
      ]
     },
     "execution_count": 12,
     "metadata": {},
     "output_type": "execute_result"
    }
   ],
   "source": [
    "pd.DataFrame({\"y_test\": y_test.values[0:3], \"y_predict\": y_predict})"
   ]
  }
 ],
 "metadata": {
  "kernelspec": {
   "display_name": "Python 3 (ipykernel)",
   "language": "python",
   "name": "python3"
  },
  "language_info": {
   "codemirror_mode": {
    "name": "ipython",
    "version": 3
   },
   "file_extension": ".py",
   "mimetype": "text/x-python",
   "name": "python",
   "nbconvert_exporter": "python",
   "pygments_lexer": "ipython3",
   "version": "3.9.12"
  }
 },
 "nbformat": 4,
 "nbformat_minor": 5
}
