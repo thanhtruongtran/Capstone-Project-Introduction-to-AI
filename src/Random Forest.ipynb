{
 "cells": [
  {
   "cell_type": "markdown",
   "id": "ad0643e6",
   "metadata": {},
   "source": [
    "# Import Library"
   ]
  },
  {
   "cell_type": "code",
   "execution_count": 1,
   "id": "6ef4cf29",
   "metadata": {},
   "outputs": [],
   "source": [
    "import numpy as np\n",
    "import matplotlib.pyplot as plt\n",
    "\n",
    "from sklearn.model_selection import RandomizedSearchCV\n",
    "from sklearn import preprocessing\n",
    "from sklearn.ensemble import RandomForestRegressor\n",
    "from sklearn import metrics"
   ]
  },
  {
   "cell_type": "code",
   "execution_count": 2,
   "id": "be6ae27c",
   "metadata": {},
   "outputs": [],
   "source": [
    "from DataPreprocessing import *"
   ]
  },
  {
   "cell_type": "markdown",
   "id": "87ac20b4",
   "metadata": {},
   "source": [
    "# Random Forest without Hyperparameters Tuning"
   ]
  },
  {
   "cell_type": "code",
   "execution_count": 3,
   "id": "5e5e652b",
   "metadata": {
    "scrolled": true
   },
   "outputs": [
    {
     "name": "stdout",
     "output_type": "stream",
     "text": [
      "RMSE on the train set: 180092.51344278656\n",
      "RMSE on the test set: 180092.51344278656\n",
      "Accuracy on the test set: R Square: 0.987888089500784\n",
      "Accuracy on the test set: R Square: 0.8820031788413284\n"
     ]
    }
   ],
   "source": [
    "# Random Forest\n",
    "Rf = RandomForestRegressor()\n",
    "\n",
    "Rf.fit(X_train_std, y_train)\n",
    "\n",
    "Rf_train_pred = Rf.predict(X_train_std)\n",
    "Rf_test_pred = Rf.predict(X_test_std)\n",
    "\n",
    "r2_score_train = metrics.r2_score(y_train, Rf_train_pred)\n",
    "r2_score_test = metrics.r2_score(y_test, Rf_test_pred)\n",
    "\n",
    "print('RMSE on the train set:', np.sqrt(metrics.mean_squared_error(y_test, Rf_test_pred)))\n",
    "print('RMSE on the test set:', np.sqrt(metrics.mean_squared_error(y_test, Rf_test_pred)))\n",
    "print(f\"Accuracy on the test set: R Square: {r2_score_train}\")\n",
    "print(f\"Accuracy on the test set: R Square: {r2_score_test}\")"
   ]
  },
  {
   "cell_type": "code",
   "execution_count": 4,
   "id": "ff02d529",
   "metadata": {},
   "outputs": [],
   "source": [
    "# get importance\n",
    "importances = Rf.feature_importances_"
   ]
  },
  {
   "cell_type": "code",
   "execution_count": 5,
   "id": "3594c580",
   "metadata": {},
   "outputs": [
    {
     "data": {
      "image/png": "[encoded data removed]",
      "text/plain": [
       "<Figure size 432x288 with 1 Axes>"
      ]
     },
     "metadata": {
      "needs_background": "light"
     },
     "output_type": "display_data"
    }
   ],
   "source": [
    "indices = np.argsort(importances)\n",
    "\n",
    "fig, ax = plt.subplots()\n",
    "ax.barh(range(len(importances)), importances[indices])\n",
    "ax.set_yticks(range(len(importances)))\n",
    "_ = ax.set_yticklabels(np.array(X_train.columns)[indices])"
   ]
  },
  {
   "cell_type": "markdown",
   "id": "14dc8df0",
   "metadata": {},
   "source": [
    "# Hyperparameters Tuning"
   ]
  },
  {
   "cell_type": "code",
   "execution_count": 6,
   "id": "c5d1091e",
   "metadata": {},
   "outputs": [],
   "source": [
    "# Number of trees in random forest\n",
    "n_estimators = [int(x) for x in np.linspace(start = 200, stop = 2000, num = 10)]\n",
    "# Number of features to consider at every split\n",
    "max_features = ['auto', 'sqrt']\n",
    "# Maximum number of levels in tree\n",
    "max_depth = [int(x) for x in np.linspace(10, 100, num = 10)]\n",
    "max_depth.append(None)\n",
    "# Minimum number of samples required to split a node\n",
    "min_samples_split = [2, 5, 10]\n",
    "# Minimum number of samples required at each leaf node\n",
    "min_samples_leaf = [1, 2, 4]\n",
    "\n",
    "# Create the random grid\n",
    "random_grid = {'n_estimators': n_estimators,\n",
    "               'max_features': max_features,\n",
    "               'max_depth': max_depth,\n",
    "               'min_samples_split': min_samples_split,\n",
    "               'min_samples_leaf': min_samples_leaf}"
   ]
  },
  {
   "cell_type": "code",
   "execution_count": 7,
   "id": "673a0bb3",
   "metadata": {},
   "outputs": [
    {
     "name": "stdout",
     "output_type": "stream",
     "text": [
      "Fitting 3 folds for each of 100 candidates, totalling 300 fits\n"
     ]
    }
   ],
   "source": [
    "# Use the random grid to search for best hyperparameters\n",
    "# First create the base model to tune\n",
    "rf = RandomForestRegressor()\n",
    "# Random search of parameters, using 3 fold cross validation, \n",
    "# search across 100 different combinations, and use all available cores\n",
    "rf_random = RandomizedSearchCV(estimator = rf, param_distributions = random_grid, n_iter = 100, cv = 3, verbose=2, random_state=42, n_jobs = -1)\n",
    "# Fit the random search model\n",
    "rf_random.fit(X_train_std, y_train)\n",
    "best_random = rf_random.best_estimator_"
   ]
  },
  {
   "cell_type": "code",
   "execution_count": 8,
   "id": "f5ab67a2",
   "metadata": {},
   "outputs": [
    {
     "name": "stdout",
     "output_type": "stream",
     "text": [
      "RMSE on the train set after tuning: 178483.81548974745\n",
      "RMSE on the test set after tuning: 178483.81548974745\n",
      "Accuracy on the test set after tuning: R Square: 0.9785227660921533\n",
      "Accuracy on the test set after tuning: R Square: 0.8841018051589403\n"
     ]
    }
   ],
   "source": [
    "rf_train_pred = best_random.predict(X_train_std)\n",
    "rf_test_pred = best_random.predict(X_test_std)\n",
    "\n",
    "R2_score_train = metrics.r2_score(y_train, rf_train_pred)\n",
    "R2_score_test = metrics.r2_score(y_test, rf_test_pred)\n",
    "\n",
    "print('RMSE on the train set after tuning:', np.sqrt(metrics.mean_squared_error(y_test, rf_test_pred)))\n",
    "print('RMSE on the test set after tuning:', np.sqrt(metrics.mean_squared_error(y_test, rf_test_pred)))\n",
    "print(f\"Accuracy on the test set after tuning: R Square: {R2_score_train}\")\n",
    "print(f\"Accuracy on the test set after tuning: R Square: {R2_score_test}\")"
   ]
  },
  {
   "cell_type": "markdown",
   "id": "2f98179f",
   "metadata": {},
   "source": [
    "# Prediction"
   ]
  },
  {
   "cell_type": "code",
   "execution_count": 9,
   "id": "7003d270",
   "metadata": {},
   "outputs": [
    {
     "data": {
      "text/plain": [
       "array([[ 1.38954455, -1.08145768,  1.11558082,  0.30072914, -3.3142684 ,\n",
       "        -0.74641118,  0.626382  , -0.47460479, -0.18362431, -1.34744894,\n",
       "        -0.44536017,  0.33188388],\n",
       "       [ 1.38954455, -0.67091488,  1.11558082,  0.30072914,  0.30172571,\n",
       "        -0.74641118,  0.4298544 , -0.47460479, -0.18362431, -1.34744894,\n",
       "        -0.44536017,  0.33188388],\n",
       "       [ 0.87204969, -0.30142637,  1.11558082,  0.30072914,  0.30172571,\n",
       "        -0.74641118,  1.29805861, -1.28731519, -1.27964718,  1.4188324 ,\n",
       "        -0.44536017,  0.33188388]])"
      ]
     },
     "execution_count": 9,
     "metadata": {},
     "output_type": "execute_result"
    }
   ],
   "source": [
    "X_test_predict = X_test_std[0:3]\n",
    "X_test_predict"
   ]
  },
  {
   "cell_type": "code",
   "execution_count": 10,
   "id": "9190a251",
   "metadata": {},
   "outputs": [
    {
     "data": {
      "text/plain": [
       "1363     700000\n",
       "3171     550000\n",
       "2201     275000\n",
       "6483     235000\n",
       "6104     375000\n",
       "         ...   \n",
       "2384    3600000\n",
       "3214    1000000\n",
       "3542     700000\n",
       "6395     150000\n",
       "5739     254999\n",
       "Name: selling_price, Length: 1343, dtype: int64"
      ]
     },
     "execution_count": 10,
     "metadata": {},
     "output_type": "execute_result"
    }
   ],
   "source": [
    "y_test"
   ]
  },
  {
   "cell_type": "code",
   "execution_count": 11,
   "id": "c3eb6cbe",
   "metadata": {},
   "outputs": [
    {
     "data": {
      "text/plain": [
       "array([646069.54564138, 651011.12034365, 282226.55264946])"
      ]
     },
     "execution_count": 11,
     "metadata": {},
     "output_type": "execute_result"
    }
   ],
   "source": [
    "y_predict = best_random.predict(X_test_predict)\n",
    "y_predict"
   ]
  },
  {
   "cell_type": "code",
   "execution_count": 12,
   "id": "e9d4cd55",
   "metadata": {},
   "outputs": [
    {
     "data": {
      "text/html": [
       "<div>\n",
       "<style scoped>\n",
       "    .dataframe tbody tr th:only-of-type {\n",
       "        vertical-align: middle;\n",
       "    }\n",
       "\n",
       "    .dataframe tbody tr th {\n",
       "        vertical-align: top;\n",
       "    }\n",
       "\n",
       "    .dataframe thead th {\n",
       "        text-align: right;\n",
       "    }\n",
       "</style>\n",
       "<table border=\"1\" class=\"dataframe\">\n",
       "  <thead>\n",
       "    <tr style=\"text-align: right;\">\n",
       "      <th></th>\n",
       "      <th>y_test</th>\n",
       "      <th>y_predict</th>\n",
       "    </tr>\n",
       "  </thead>\n",
       "  <tbody>\n",
       "    <tr>\n",
       "      <th>0</th>\n",
       "      <td>700000</td>\n",
       "      <td>646069.545641</td>\n",
       "    </tr>\n",
       "    <tr>\n",
       "      <th>1</th>\n",
       "      <td>550000</td>\n",
       "      <td>651011.120344</td>\n",
       "    </tr>\n",
       "    <tr>\n",
       "      <th>2</th>\n",
       "      <td>275000</td>\n",
       "      <td>282226.552649</td>\n",
       "    </tr>\n",
       "  </tbody>\n",
       "</table>\n",
       "</div>"
      ],
      "text/plain": [
       "   y_test      y_predict\n",
       "0  700000  646069.545641\n",
       "1  550000  651011.120344\n",
       "2  275000  282226.552649"
      ]
     },
     "execution_count": 12,
     "metadata": {},
     "output_type": "execute_result"
    }
   ],
   "source": [
    "pd.DataFrame({\"y_test\": y_test.values[0:3], \"y_predict\": y_predict})"
   ]
  }
 ],
 "metadata": {
  "kernelspec": {
   "display_name": "Python 3 (ipykernel)",
   "language": "python",
   "name": "python3"
  },
  "language_info": {
   "codemirror_mode": {
    "name": "ipython",
    "version": 3
   },
   "file_extension": ".py",
   "mimetype": "text/x-python",
   "name": "python",
   "nbconvert_exporter": "python",
   "pygments_lexer": "ipython3",
   "version": "3.9.12"
  }
 },
 "nbformat": 4,
 "nbformat_minor": 5
}
